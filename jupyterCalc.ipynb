{
 "cells": [
  {
   "cell_type": "code",
   "execution_count": null,
   "metadata": {},
   "outputs": [],
   "source": [
    "# Investment Calculator\n",
    "current_age = 24\n",
    "retirement_age = 50\n",
    "years_to_invest = retirement_age - current_age\n",
    "total_months = years_to_invest * 12\n",
    "initial_monthly_investment = 8000\n",
    "annual_increase_rate = 0.25  # 10% annual increase in monthly investment\n",
    "annual_return_rate = 0.09    # 9% annual return\n",
    "monthly_return_rate = annual_return_rate / 12\n",
    "monthly_investment = initial_monthly_investment\n",
    "total_value = 0\n",
    "for month in range(1, total_months + 1):\n",
    "   # Add monthly investment at the beginning of the month\n",
    "   total_value += monthly_investment\n",
    "   # Apply monthly interest at the end of the month\n",
    "   total_value *= (1 + monthly_return_rate)\n",
    "   # Increase monthly investment by 10% at the end of each year\n",
    "   if month % 12 == 0:\n",
    "       monthly_investment *= (1 + annual_increase_rate)\n",
    "print(f\"At age {retirement_age}, you will have: {total_value:.2f}\")"
   ]
  },
  {
   "cell_type": "code",
   "execution_count": null,
   "metadata": {},
   "outputs": [],
   "source": [
    "# Investment Calculator with Initial Investment\n",
    "\n",
    "# User inputs\n",
    "current_age = 24\n",
    "retirement_age = 55\n",
    "initial_investment_amount = 300000\n",
    "initial_monthly_investment = 8000\n",
    "annual_increase_rate = 0.05  # 5% annual increase in monthly investment\n",
    "annual_return_rate = 0.09    # 9% annual return\n",
    "\n",
    "# Calculations\n",
    "years_to_invest = retirement_age - current_age\n",
    "total_months = years_to_invest * 12\n",
    "monthly_return_rate = annual_return_rate / 12\n",
    "monthly_investment = initial_monthly_investment\n",
    "total_value = initial_investment_amount  # Start with the initial investment amount\n",
    "\n",
    "for month in range(1, total_months + 1):\n",
    "    # Add monthly investment at the beginning of the month\n",
    "    total_value += monthly_investment\n",
    "    # Apply monthly interest at the end of the month\n",
    "    total_value *= (1 + monthly_return_rate)\n",
    "    # Increase monthly investment by the annual increase rate at the end of each year\n",
    "    if month % 12 == 0:\n",
    "        monthly_investment *= (1 + annual_increase_rate)\n",
    "\n",
    "print(f\"At age {retirement_age}, you will have: {total_value:.2f}\")"
   ]
  },
  {
   "cell_type": "code",
   "execution_count": null,
   "metadata": {},
   "outputs": [
    {
     "name": "stderr",
     "output_type": "stream",
     "text": [
      "2024-11-12 13:28:22.020 WARNING streamlit.runtime.scriptrunner_utils.script_run_context: Thread 'MainThread': missing ScriptRunContext! This warning can be ignored when running in bare mode.\n"
     ]
    },
    {
     "name": "stdout",
     "output_type": "stream",
     "text": [
      "\n",
      "The amount of 300,000,000.00 in 2055 will be worth 119,996,143.55 in 2024 adjusted for inflation.\n"
     ]
    },
    {
     "name": "stderr",
     "output_type": "stream",
     "text": [
      "2024-11-12 13:28:22.278 \n",
      "  \u001b[33m\u001b[1mWarning:\u001b[0m to view this Streamlit app on a browser, run it with the following\n",
      "  command:\n",
      "\n",
      "    streamlit run C:\\Users\\MohamedRa\\AppData\\Roaming\\Python\\Python312\\site-packages\\ipykernel_launcher.py [ARGUMENTS]\n",
      "2024-11-12 13:28:22.279 Thread 'MainThread': missing ScriptRunContext! This warning can be ignored when running in bare mode.\n",
      "2024-11-12 13:28:22.280 Thread 'MainThread': missing ScriptRunContext! This warning can be ignored when running in bare mode.\n",
      "2024-11-12 13:28:22.281 Thread 'MainThread': missing ScriptRunContext! This warning can be ignored when running in bare mode.\n",
      "2024-11-12 13:28:22.281 Thread 'MainThread': missing ScriptRunContext! This warning can be ignored when running in bare mode.\n",
      "2024-11-12 13:28:22.282 Session state does not function when running a script without `streamlit run`\n",
      "2024-11-12 13:28:22.283 Thread 'MainThread': missing ScriptRunContext! This warning can be ignored when running in bare mode.\n",
      "2024-11-12 13:28:22.283 Thread 'MainThread': missing ScriptRunContext! This warning can be ignored when running in bare mode.\n",
      "2024-11-12 13:28:22.284 Thread 'MainThread': missing ScriptRunContext! This warning can be ignored when running in bare mode.\n",
      "2024-11-12 13:28:22.284 Thread 'MainThread': missing ScriptRunContext! This warning can be ignored when running in bare mode.\n",
      "2024-11-12 13:28:22.285 Thread 'MainThread': missing ScriptRunContext! This warning can be ignored when running in bare mode.\n",
      "2024-11-12 13:28:22.285 Thread 'MainThread': missing ScriptRunContext! This warning can be ignored when running in bare mode.\n",
      "2024-11-12 13:28:22.286 Thread 'MainThread': missing ScriptRunContext! This warning can be ignored when running in bare mode.\n",
      "2024-11-12 13:28:22.287 Thread 'MainThread': missing ScriptRunContext! This warning can be ignored when running in bare mode.\n",
      "2024-11-12 13:28:22.287 Thread 'MainThread': missing ScriptRunContext! This warning can be ignored when running in bare mode.\n",
      "2024-11-12 13:28:22.287 Thread 'MainThread': missing ScriptRunContext! This warning can be ignored when running in bare mode.\n",
      "2024-11-12 13:28:22.288 Thread 'MainThread': missing ScriptRunContext! This warning can be ignored when running in bare mode.\n",
      "2024-11-12 13:28:22.288 Thread 'MainThread': missing ScriptRunContext! This warning can be ignored when running in bare mode.\n",
      "2024-11-12 13:28:22.289 Thread 'MainThread': missing ScriptRunContext! This warning can be ignored when running in bare mode.\n",
      "2024-11-12 13:28:22.289 Thread 'MainThread': missing ScriptRunContext! This warning can be ignored when running in bare mode.\n",
      "2024-11-12 13:28:22.289 Thread 'MainThread': missing ScriptRunContext! This warning can be ignored when running in bare mode.\n",
      "2024-11-12 13:28:22.290 Thread 'MainThread': missing ScriptRunContext! This warning can be ignored when running in bare mode.\n"
     ]
    }
   ],
   "source": [
    "# User Input\n",
    "amount = 300000000\n",
    "target_year = 2055\n",
    "inflation_rate_input = '3'\n",
    "\n",
    "# Inflation Calculator\n",
    "def calculate_future_value(amount, target_year, inflation_rate=0.03):\n",
    "    \"\"\"\n",
    "    Calculates the future value of an amount adjusted for inflation.\n",
    "    Parameters:\n",
    "    - amount (float): The amount of money.\n",
    "    - target_year (int): The year to calculate the value for.\n",
    "    - inflation_rate (float): The annual inflation rate (default is 3%).\n",
    "    Returns:\n",
    "    - float: The adjusted future value of the amount.\n",
    "    \"\"\"\n",
    "    current_year = 2024  # Assuming the current year is 2024\n",
    "    years_difference = target_year - current_year\n",
    "    # Calculate the adjusted future value\n",
    "    future_value = amount / ((1 + inflation_rate) ** years_difference)\n",
    "    return future_value\n",
    "\n",
    "# Use default inflation rate if none is provided\n",
    "if inflation_rate_input.strip() == '':\n",
    "    inflation_rate = 0.03\n",
    "else:\n",
    "    inflation_rate = float(inflation_rate_input) / 100\n",
    "\n",
    "# Calculate future value\n",
    "future_value = calculate_future_value(amount, target_year, inflation_rate)\n",
    "print(f\"\\nThe amount of {amount:,.2f} in {target_year} will be worth {future_value:,.2f} in 2024 adjusted for inflation.\")"
   ]
  }
 ],
 "metadata": {
  "kernelspec": {
   "display_name": "Python 3",
   "language": "python",
   "name": "python3"
  },
  "language_info": {
   "codemirror_mode": {
    "name": "ipython",
    "version": 3
   },
   "file_extension": ".py",
   "mimetype": "text/x-python",
   "name": "python",
   "nbconvert_exporter": "python",
   "pygments_lexer": "ipython3",
   "version": "3.12.2"
  }
 },
 "nbformat": 4,
 "nbformat_minor": 2
}
